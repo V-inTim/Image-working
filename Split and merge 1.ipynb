{
 "cells": [
  {
   "cell_type": "code",
   "execution_count": 19,
   "id": "dac12bf1",
   "metadata": {},
   "outputs": [],
   "source": [
    "import numpy as np\n",
    "import cv2"
   ]
  },
  {
   "cell_type": "code",
   "execution_count": 20,
   "id": "6f00c32b",
   "metadata": {},
   "outputs": [],
   "source": [
    "def merge_regions(image, mask, x, y, width, height):\n",
    "    # Объединяем регионы путем установки их значений в среднее значение яркости\n",
    "    region_mean = np.mean(image[y:y+height, x:x+width])\n",
    "    image[y:y+height, x:x+width] = region_mean\n",
    "    \n",
    "    # Отмечаем область региона, как обработанную\n",
    "    mask[y:y+height, x:x+width] = 255"
   ]
  },
  {
   "cell_type": "code",
   "execution_count": 21,
   "id": "4a7a7a59",
   "metadata": {},
   "outputs": [],
   "source": [
    "def should_merge(image, mask, x, y, width, height):\n",
    "    # Проверяем, должны ли регион быть объединенными\n",
    "    region = image[y:y+height, x:x+width]\n",
    "    region_mean = np.mean(region)\n",
    "    \n",
    "    # Проверяем, что весь регион имеет близкое к среднему значение яркости\n",
    "    if np.allclose(region, region_mean):\n",
    "        # Проверяем, что регион еще не был обработан\n",
    "        if np.all(mask[y:y+height, x:x+width] == 0):\n",
    "            return True\n",
    "    \n",
    "    return False"
   ]
  },
  {
   "cell_type": "code",
   "execution_count": 22,
   "id": "80790e73",
   "metadata": {},
   "outputs": [],
   "source": [
    "def split_and_merge_recursive(image, mask, x, y, width, height, min_region_size):\n",
    "    # Разделение региона\n",
    "    if width * height > min_region_size:\n",
    "        # Разделяем регион пополам по вертикали\n",
    "        if width > height:\n",
    "            mid = x + width // 2\n",
    "            split_and_merge_recursive(image, mask, x, y, mid - x, height, min_region_size)\n",
    "            split_and_merge_recursive(image, mask, mid, y, width - (mid - x), height, min_region_size)\n",
    "        # Разделяем регион пополам по горизонтали\n",
    "        else:\n",
    "            mid = y + height // 2\n",
    "            split_and_merge_recursive(image, mask, x, y, width, mid - y, min_region_size)\n",
    "            split_and_merge_recursive(image, mask, x, mid, width, height - (mid - y), min_region_size)\n",
    "\n",
    "    # Объединение региона, если требуется\n",
    "    if should_merge(image, mask, x, y, width, height):\n",
    "        merge_regions(image, mask, x, y, width, height)"
   ]
  },
  {
   "cell_type": "code",
   "execution_count": 23,
   "id": "3acf5b0e",
   "metadata": {},
   "outputs": [],
   "source": [
    "def split_and_merge(image, min_region_size):\n",
    "    # Создаем маску для отслеживания уже обработанных регионов\n",
    "   \n",
    "    \n",
    "    mask = np.zeros(image.shape[:2], dtype=np.uint8)\n",
    "    # Вызываем функцию разделения и объединения регионов\n",
    "    split_and_merge_recursive(image, mask, 0, 0, image.shape[1], image.shape[0], min_region_size)\n",
    "    return image"
   ]
  },
  {
   "cell_type": "code",
   "execution_count": 24,
   "id": "a8c49967",
   "metadata": {},
   "outputs": [
    {
     "data": {
      "text/plain": [
       "True"
      ]
     },
     "execution_count": 24,
     "metadata": {},
     "output_type": "execute_result"
    }
   ],
   "source": [
    "image = cv2.imread('circles.jpg', cv2.IMREAD_GRAYSCALE)\n",
    "image = split_and_merge(image, min_region_size=10)\n",
    "cv2.imwrite('segmented_image.jpg', image)"
   ]
  },
  {
   "cell_type": "code",
   "execution_count": null,
   "id": "db8f3c46",
   "metadata": {},
   "outputs": [],
   "source": []
  }
 ],
 "metadata": {
  "kernelspec": {
   "display_name": "Python 3 (ipykernel)",
   "language": "python",
   "name": "python3"
  },
  "language_info": {
   "codemirror_mode": {
    "name": "ipython",
    "version": 3
   },
   "file_extension": ".py",
   "mimetype": "text/x-python",
   "name": "python",
   "nbconvert_exporter": "python",
   "pygments_lexer": "ipython3",
   "version": "3.11.5"
  }
 },
 "nbformat": 4,
 "nbformat_minor": 5
}
