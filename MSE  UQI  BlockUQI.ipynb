{
 "cells": [
  {
   "cell_type": "markdown",
   "id": "4d604cd5",
   "metadata": {},
   "source": [
    "**Обработка изображений** Лабораторная работа №1 (Виничук Тимофей)"
   ]
  },
  {
   "cell_type": "code",
   "execution_count": 1,
   "id": "e92de9ef",
   "metadata": {},
   "outputs": [],
   "source": [
    "import cv2\n",
    "import math\n",
    "from IPython.display import Image\n",
    "import warnings\n",
    "\n",
    "warnings. filterwarnings('ignore')"
   ]
  },
  {
   "cell_type": "code",
   "execution_count": 2,
   "id": "e1f03197",
   "metadata": {},
   "outputs": [],
   "source": [
    "def MSE_check(original, copy):\n",
    "    MSE = 0\n",
    "    for y in range(original.shape[0]):\n",
    "        for x in range(original.shape[1]):\n",
    "           \n",
    "            MSE += ((original[y, x, 0] - copy[y, x, 0])**2 +\n",
    "                    (original[y, x, 1] - copy[y, x, 1])**2 +\n",
    "                    (original[y, x, 2] - copy[y, x, 2])**2) / 3\n",
    "    return MSE/(original.shape[0]*original.shape[1])"
   ]
  },
  {
   "cell_type": "code",
   "execution_count": 3,
   "id": "2a293470",
   "metadata": {},
   "outputs": [],
   "source": [
    "def UQI_check(original, copy):\n",
    "    UQI, orig_av, copy_av, sx, sy, sxy  = 0, 0, 0, 0, 0, 0\n",
    "    \n",
    "    for y in range(original.shape[0]):\n",
    "        for x in range(original.shape[1]):\n",
    "                    orig_av += (original[y, x, 0] + original[y, x, 1] + original[y, x, 2]) / 3\n",
    "                    copy_av += (copy[y, x, 0] + copy[y, x, 1] + copy[y, x, 2]) / 3\n",
    "\n",
    "    orig_av /= (original.shape[0] * original.shape[1])\n",
    "    copy_av /= (original.shape[0] * original.shape[1])\n",
    "\n",
    "    for y in range(original.shape[0]):\n",
    "        for x in range(original.shape[1]):\n",
    "            sx += ((original[y, x, 0] + original[y, x, 1] + original[y, x, 2]) / 3 - orig_av)**2\n",
    "            sy += ((copy[y, x, 0] + copy[y, x, 1] + copy[y, x, 2]) / 3 - copy_av)**2\n",
    "            sxy+= ((original[y, x, 0] + original[y, x, 1] + original[y, x, 2]) / 3 - orig_av)*((copy[y, x, 0] + copy[y, x, 1] + copy[y, x, 2]) / 3 - copy_av)\n",
    "\n",
    "    sx /= (original.shape[0] * original.shape[1])\n",
    "    sy /= (original.shape[0] * original.shape[1])\n",
    "    sxy /= (original.shape[0] * original.shape[1])\n",
    "    UQI = (4*sxy*orig_av*copy_av)/((sx+sy)*(orig_av*orig_av+copy_av*copy_av))\n",
    "    return UQI"
   ]
  },
  {
   "cell_type": "code",
   "execution_count": 4,
   "id": "7d9f925e",
   "metadata": {},
   "outputs": [],
   "source": [
    "def BlockUQI_check(original, copy, h_block, w_block):\n",
    "    UQIi, orig_av, copy_av, sx, sy, sxy  = 0, 0, 0, 0, 0, 0\n",
    "    for h in range(h_block-1):\n",
    "        for w in range(w_block-1):\n",
    "            for x in range(int(original.shape[1]/w_block)*w, int(original.shape[1]/w_block)*(w+1)):\n",
    "                for y in range(int(original.shape[0]/h_block)*h, int(original.shape[0]/h_block)*(h+1)):\n",
    "                    orig_av += (original[y, x, 0] + original[y, x, 1] + original[y, x, 2]) / 3\n",
    "                    copy_av += (copy[y, x, 0] + copy[y, x, 1] + copy[y, x, 2]) / 3\n",
    "            orig_av /= int( original.shape[1]/w_block)* int(original.shape[0]/h_block)\n",
    "            copy_av /= int( original.shape[1]/w_block)* int(original.shape[0]/h_block)\n",
    "\n",
    "            for x in range(int(original.shape[1]/w_block)*w, int(original.shape[1]/w_block)*(w+1)):\n",
    "                for y in range(int(original.shape[0]/h_block)*h, int(original.shape[0]/h_block)*(h+1)):\n",
    "                    sx += ((original[y, x, 0] + original[y, x, 1] + original[y, x, 2]) / 3 - orig_av)**2\n",
    "                    sy += ((copy[y, x, 0] + copy[y, x, 1] + copy[y, x, 2]) / 3 - copy_av)**2\n",
    "                    sxy+= ((original[y, x, 0] + original[y, x, 1] + original[y, x, 2]) / 3 - orig_av)*((copy[y, x, 0] + copy[y, x, 1] + copy[y, x, 2]) / 3 - copy_av)\n",
    "\n",
    "            sx /= int( original.shape[1]/w_block)* int(original.shape[0]/h_block)\n",
    "            sy /= int( original.shape[1]/w_block)* int(original.shape[0]/h_block)\n",
    "            sxy /= int( original.shape[1]/w_block)* int(original.shape[0]/h_block)\n",
    "\n",
    "            UQIi += (4*sxy*orig_av*copy_av)/((sx+sy)*(orig_av*orig_av+copy_av*copy_av))\n",
    "            \n",
    "    for h in range(h_block-1):        \n",
    "        for x in range(int(original.shape[1]/w_block)*(w_block-1), original.shape[1]):\n",
    "            for y in range(int(original.shape[0]/h_block)*h, int(original.shape[0]/h_block)*(h+1)):\n",
    "                orig_av += (original[y, x, 0] + original[y, x, 1] + original[y, x, 2]) / 3\n",
    "                copy_av += (copy[y, x, 0] + copy[y, x, 1] + copy[y, x, 2]) / 3\n",
    "        orig_av /= int( original.shape[1]/w_block)* int(original.shape[0]/h_block)\n",
    "        copy_av /= int( original.shape[1]/w_block)* int(original.shape[0]/h_block)\n",
    "        \n",
    "        for x in range(int(original.shape[1]/w_block)*(w_block-1), original.shape[1]):\n",
    "            for y in range(int(original.shape[0]/h_block)*h, int(original.shape[0]/h_block)*(h+1)):\n",
    "                sx += ((original[y, x, 0] + original[y, x, 1] + original[y, x, 2]) / 3 - orig_av)**2\n",
    "                sy += ((copy[y, x, 0] + copy[y, x, 1] + copy[y, x, 2]) / 3 - copy_av)**2\n",
    "                sxy+= ((original[y, x, 0] + original[y, x, 1] + original[y, x, 2]) / 3 - orig_av)*((copy[y, x, 0] + copy[y, x, 1] + copy[y, x, 2]) / 3 - copy_av)\n",
    "\n",
    "        sx /= int( original.shape[1]/w_block)* int(original.shape[0]/h_block)\n",
    "        sy /= int( original.shape[1]/w_block)* int(original.shape[0]/h_block)\n",
    "        sxy /= int( original.shape[1]/w_block)* int(original.shape[0]/h_block)\n",
    "\n",
    "        UQIi += (4*sxy*orig_av*copy_av)/((sx+sy)*(orig_av*orig_av+copy_av*copy_av))\n",
    "        \n",
    "        \n",
    "    for w in range(w_block-1):        \n",
    "        for x in range(int(original.shape[1]/w_block)*w, int(original.shape[1]/w_block)*(w+1)):\n",
    "            for y in range(int(original.shape[0]/h_block)*(h_block-1), original.shape[0]):\n",
    "                orig_av += (original[y, x, 0] + original[y, x, 1] + original[y, x, 2]) / 3\n",
    "                copy_av += (copy[y, x, 0] + copy[y, x, 1] + copy[y, x, 2]) / 3\n",
    "        orig_av /= int( original.shape[1]/w_block)* int(original.shape[0]/h_block)\n",
    "        copy_av /= int( original.shape[1]/w_block)* int(original.shape[0]/h_block)\n",
    "        \n",
    "        for x in range(int(original.shape[1]/w_block)*(w_block-1), original.shape[1]):\n",
    "            for y in range(int(original.shape[0]/h_block)*(h_block-1), original.shape[0]):\n",
    "                sx += ((original[y, x, 0] + original[y, x, 1] + original[y, x, 2]) / 3 - orig_av)**2\n",
    "                sy += ((copy[y, x, 0] + copy[y, x, 1] + copy[y, x, 2]) / 3 - copy_av)**2\n",
    "                sxy+= ((original[y, x, 0] + original[y, x, 1] + original[y, x, 2]) / 3 - orig_av)*((copy[y, x, 0] + copy[y, x, 1] + copy[y, x, 2]) / 3 - copy_av)\n",
    "\n",
    "        sx /= int( original.shape[1]/w_block)* int(original.shape[0]/h_block)\n",
    "        sy /= int( original.shape[1]/w_block)* int(original.shape[0]/h_block)\n",
    "        sxy /= int( original.shape[1]/w_block)* int(original.shape[0]/h_block)\n",
    "\n",
    "        UQIi += (4*sxy*orig_av*copy_av)/((sx+sy)*(orig_av*orig_av+copy_av*copy_av))\n",
    "        \n",
    "    \n",
    "    for x in range(int(original.shape[1]/w_block)*(w_block-1), original.shape[1]):\n",
    "        for y in range(int(original.shape[0]/h_block)*(h_block-1), original.shape[0]):\n",
    "            orig_av += (original[y, x, 0] + original[y, x, 1] + original[y, x, 2]) / 3\n",
    "            copy_av += (copy[y, x, 0] + copy[y, x, 1] + copy[y, x, 2]) / 3\n",
    "    orig_av /= int( original.shape[1]/w_block)* int(original.shape[0]/h_block)\n",
    "    copy_av /= int( original.shape[1]/w_block)* int(original.shape[0]/h_block)\n",
    "    \n",
    "    for x in range(int(original.shape[1]/w_block)*(w_block-1), original.shape[1]):\n",
    "        for y in range(int(original.shape[0]/h_block)*(h_block-1), original.shape[0]):\n",
    "            sx += ((original[y, x, 0] + original[y, x, 1] + original[y, x, 2]) / 3 - orig_av)**2\n",
    "            sy += ((copy[y, x, 0] + copy[y, x, 1] + copy[y, x, 2]) / 3 - copy_av)**2\n",
    "            sxy+= ((original[y, x, 0] + original[y, x, 1] + original[y, x, 2]) / 3 - orig_av)*((copy[y, x, 0] + copy[y, x, 1] + copy[y, x, 2]) / 3 - copy_av)\n",
    "\n",
    "    sx /= int( original.shape[1]/w_block)* int(original.shape[0]/h_block)\n",
    "    sy /= int( original.shape[1]/w_block)* int(original.shape[0]/h_block)\n",
    "    sxy /= int( original.shape[1]/w_block)* int(original.shape[0]/h_block)\n",
    "\n",
    "    UQIi += (4*sxy*orig_av*copy_av)/((sx+sy)*(orig_av*orig_av+copy_av*copy_av))\n",
    "    UQIi /= (w_block * h_block)\n",
    "\n",
    "    return UQIi"
   ]
  },
  {
   "cell_type": "code",
   "execution_count": 5,
   "id": "8d5df879",
   "metadata": {},
   "outputs": [
    {
     "data": {
      "image/jpeg": "[encoded data removed]",
      "text/plain": [
       "<IPython.core.display.Image object>"
      ]
     },
     "execution_count": 5,
     "metadata": {
      "image/jpeg": {
       "height": 200,
       "width": 200
      }
     },
     "output_type": "execute_result"
    }
   ],
   "source": [
    "Image('original.jpg', width=200, height=200)"
   ]
  },
  {
   "cell_type": "code",
   "execution_count": 6,
   "id": "9fa2f9fe",
   "metadata": {},
   "outputs": [
    {
     "data": {
      "image/jpeg": "[encoded data removed]",
      "text/plain": [
       "<IPython.core.display.Image object>"
      ]
     },
     "execution_count": 6,
     "metadata": {
      "image/jpeg": {
       "height": 200,
       "width": 200
      }
     },
     "output_type": "execute_result"
    }
   ],
   "source": [
    "Image('copy.jpg', width=200, height=200)"
   ]
  },
  {
   "cell_type": "code",
   "execution_count": 7,
   "id": "39719d58",
   "metadata": {},
   "outputs": [
    {
     "name": "stdout",
     "output_type": "stream",
     "text": [
      "MSE: 4183.020300000008\n",
      "MSE: 0.0\n",
      "UQI: 0.9659225773956499\n",
      "UQI: 1.0\n",
      "BlockUQI: 0.8350577226825346\n",
      "BlockUQI: 0.9216135761309074\n",
      "BlockUQI: 0.9378151113810892\n",
      "BlockUQI: 1.0\n"
     ]
    }
   ],
   "source": [
    "original = cv2.imread('original.jpg')\n",
    "copy = cv2.imread('copy.jpg')\n",
    "\n",
    "print('MSE: ' + str(MSE_check(original, copy)))\n",
    "print('MSE: ' + str(MSE_check(original, original)))\n",
    "print('UQI: ' + str(UQI_check(original, copy)))\n",
    "print('UQI: ' + str(UQI_check(original, original)))\n",
    "print('BlockUQI: ' + str(BlockUQI_check(original, copy,10,10)))\n",
    "print('BlockUQI: ' + str(BlockUQI_check(original, copy,50,50)))\n",
    "print('BlockUQI: ' + str(BlockUQI_check(original, copy,60,60)))\n",
    "print('BlockUQI: ' + str(BlockUQI_check(original, original,10,10)))"
   ]
  },
  {
   "cell_type": "code",
   "execution_count": null,
   "id": "d924d18a",
   "metadata": {},
   "outputs": [],
   "source": []
  }
 ],
 "metadata": {
  "kernelspec": {
   "display_name": "Python 3 (ipykernel)",
   "language": "python",
   "name": "python3"
  },
  "language_info": {
   "codemirror_mode": {
    "name": "ipython",
    "version": 3
   },
   "file_extension": ".py",
   "mimetype": "text/x-python",
   "name": "python",
   "nbconvert_exporter": "python",
   "pygments_lexer": "ipython3",
   "version": "3.11.5"
  }
 },
 "nbformat": 4,
 "nbformat_minor": 5
}
