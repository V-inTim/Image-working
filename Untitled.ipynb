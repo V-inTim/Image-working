{
 "cells": [
  {
   "cell_type": "code",
   "execution_count": 1,
   "id": "d2338bd6",
   "metadata": {},
   "outputs": [],
   "source": [
    "import numpy as np\n",
    "from PIL import Image\n",
    "import math\n",
    "#  pip install Pillow\n",
    "\n",
    "img = np.asarray(Image.open('cube.png').convert('RGB'))"
   ]
  },
  {
   "cell_type": "markdown",
   "id": "9c805881",
   "metadata": {},
   "source": []
  },
  {
   "cell_type": "code",
   "execution_count": 2,
   "id": "6e1f36c8",
   "metadata": {
    "scrolled": true
   },
   "outputs": [],
   "source": [
    "import cv2"
   ]
  },
  {
   "cell_type": "code",
   "execution_count": 3,
   "id": "86cd8b46",
   "metadata": {},
   "outputs": [
    {
     "data": {
      "text/plain": [
       "numpy.ndarray"
      ]
     },
     "execution_count": 3,
     "metadata": {},
     "output_type": "execute_result"
    }
   ],
   "source": [
    "image = cv2.imread('cube.png')\n",
    "# Setting parameter values \n",
    "t_lower = 50  # Lower Threshold \n",
    "t_upper = 150  # Upper threshold \n",
    "  \n",
    "# Applying the Canny Edge filter \n",
    "edge = cv2.Canny(image, t_lower, t_upper) \n",
    "cv2.imwrite('cube1.png', edge)\n",
    "type(edge)"
   ]
  },
  {
   "cell_type": "code",
   "execution_count": 4,
   "id": "eb9c8f9b",
   "metadata": {
    "scrolled": true
   },
   "outputs": [
    {
     "data": {
      "image/png": "[encoded data removed]",
      "text/plain": [
       "<IPython.core.display.Image object>"
      ]
     },
     "execution_count": 4,
     "metadata": {
      "image/png": {
       "height": 240,
       "width": 320
      }
     },
     "output_type": "execute_result"
    }
   ],
   "source": [
    "from IPython.display import Image\n",
    "Image('cube1.png', width=320, height=240)"
   ]
  },
  {
   "cell_type": "code",
   "execution_count": 5,
   "id": "70379cfb",
   "metadata": {},
   "outputs": [],
   "source": [
    "def NullArray(arr):\n",
    "    for row in arr:\n",
    "        for i in row:\n",
    "            if i > 100:\n",
    "                return True\n",
    "    return False"
   ]
  },
  {
   "cell_type": "code",
   "execution_count": 6,
   "id": "1f3bc4d3",
   "metadata": {},
   "outputs": [],
   "source": [
    "def houghLine(original, accuracy):\n",
    "    bin = cv2.Canny(original, 50, 150) \n",
    "    RMax = math.ceil(math.sqrt((original.shape[0]* original.shape[0] + original.shape[1] * original.shape[1])))\n",
    "    \n",
    "    \n",
    "    # картинка для хранения фазового пространства Хафа (r, f)\n",
    "    # 0 < r < RMax\n",
    "    # 0 < f < 2*PI \n",
    "    phase = [[0] * 180] * RMax \n",
    "    theta = 0\n",
    "    \n",
    "    # пробегаемся по пикселям изображения контуров\n",
    "    for x in range(bin.shape[1]):\n",
    "        for y in range(bin.shape[0]):\n",
    "\n",
    "            if bin[y,x] > 0:\n",
    "                for f in range(180):                      \n",
    "                    for r in range(RMax):\n",
    "                        theta = f * math.pi / 180.0\n",
    "                        # Если решение уравнения достаточно хорошее (точность больше заданой)\n",
    "                        if math.fabs(((y) * math.sin(theta) + (x) * math.cos(theta)) - r) < accuracy:\n",
    "                            phase[r][f] += 1 \n",
    "\n",
    "    while NullArray(phase):\n",
    "        # Выбираем точку фазового пространства которая набрала наибольшее число попаданий\n",
    "        MaxPhaseValue, Theta, R = 0, 0, 0\n",
    "        for f in range(180):\n",
    "            for r in range(RMax):\n",
    "                if phase[r][f] > MaxPhaseValue:\n",
    "                    MaxPhaseValue,Theta, R = phase[r][f], f, r\n",
    "\n",
    "        # Рисуем линию по точкам для  R, Teta которые получили в результате преобразования\n",
    "        Th = Theta * math.pi / 180.0;\n",
    "        for x in range(bin.shape[1]):\n",
    "            for y in range(bin.shape[0]):\n",
    "                if bin[y,x] > 0 and math.fabs(((y) * math.sin(Th) + (x) * math.cos(Th)) - R) < accuracy:\n",
    "                    original[y,x,0] = 0\n",
    "                    original[y,x,1] = 0\n",
    "                    original[y,x,2] = 0\n",
    "        print(phase[R][ Theta])\n",
    "                            \n",
    "        phase[R][ Theta] = 0  \n",
    "        \n",
    "\n",
    "    return original"
   ]
  },
  {
   "cell_type": "code",
   "execution_count": 7,
   "id": "35255553",
   "metadata": {},
   "outputs": [
    {
     "name": "stdout",
     "output_type": "stream",
     "text": [
      "2401\n",
      "2401\n"
     ]
    },
    {
     "data": {
      "image/png": "[encoded data removed]",
      "text/plain": [
       "<IPython.core.display.Image object>"
      ]
     },
     "execution_count": 7,
     "metadata": {
      "image/png": {
       "height": 240,
       "width": 320
      }
     },
     "output_type": "execute_result"
    }
   ],
   "source": [
    "lines = houghLine(image, 0.01) \n",
    "\n",
    "cv2.imwrite('cube2.png', lines)\n",
    " \n",
    "Image('cube2.png', width=320, height=240)"
   ]
  },
  {
   "cell_type": "code",
   "execution_count": null,
   "id": "c9262bc3",
   "metadata": {},
   "outputs": [],
   "source": []
  },
  {
   "cell_type": "code",
   "execution_count": null,
   "id": "ee713bf9",
   "metadata": {},
   "outputs": [],
   "source": []
  },
  {
   "cell_type": "code",
   "execution_count": null,
   "id": "d45cba8c",
   "metadata": {},
   "outputs": [],
   "source": []
  },
  {
   "cell_type": "code",
   "execution_count": null,
   "id": "c3d3437c",
   "metadata": {},
   "outputs": [],
   "source": []
  },
  {
   "cell_type": "code",
   "execution_count": null,
   "id": "3546da8f",
   "metadata": {},
   "outputs": [],
   "source": []
  }
 ],
 "metadata": {
  "kernelspec": {
   "display_name": "Python 3 (ipykernel)",
   "language": "python",
   "name": "python3"
  },
  "language_info": {
   "codemirror_mode": {
    "name": "ipython",
    "version": 3
   },
   "file_extension": ".py",
   "mimetype": "text/x-python",
   "name": "python",
   "nbconvert_exporter": "python",
   "pygments_lexer": "ipython3",
   "version": "3.11.5"
  }
 },
 "nbformat": 4,
 "nbformat_minor": 5
}
